{
 "cells": [
  {
   "cell_type": "code",
   "execution_count": 1,
   "metadata": {},
   "outputs": [],
   "source": [
    "import random as rd\n",
    "import numpy as np\n"
   ]
  },
  {
   "cell_type": "markdown",
   "metadata": {},
   "source": [
    "# 2.1.3 Indent"
   ]
  },
  {
   "cell_type": "code",
   "execution_count": 4,
   "metadata": {
    "scrolled": true
   },
   "outputs": [
    {
     "name": "stdout",
     "output_type": "stream",
     "text": [
      "i :  1\n",
      "j :  1\n",
      "i+j :  2\n",
      "j :  2\n",
      "i+j :  3\n",
      "j :  3\n",
      "i+j :  4\n",
      "j :  4\n",
      "i+j :  5\n",
      "j :  5\n",
      "i+j :  6\n",
      "i :  1\n",
      "i :  2\n",
      "j :  1\n",
      "i+j :  3\n",
      "j :  2\n",
      "i+j :  4\n",
      "j :  3\n",
      "i+j :  5\n",
      "j :  4\n",
      "i+j :  6\n",
      "j :  5\n",
      "i+j :  7\n",
      "i :  2\n",
      "i :  3\n",
      "j :  1\n",
      "i+j :  4\n",
      "j :  2\n",
      "i+j :  5\n",
      "j :  3\n",
      "i+j :  6\n",
      "j :  4\n",
      "i+j :  7\n",
      "j :  5\n",
      "i+j :  8\n",
      "i :  3\n",
      "i :  4\n",
      "j :  1\n",
      "i+j :  5\n",
      "j :  2\n",
      "i+j :  6\n",
      "j :  3\n",
      "i+j :  7\n",
      "j :  4\n",
      "i+j :  8\n",
      "j :  5\n",
      "i+j :  9\n",
      "i :  4\n",
      "i :  5\n",
      "j :  1\n",
      "i+j :  6\n",
      "j :  2\n",
      "i+j :  7\n",
      "j :  3\n",
      "i+j :  8\n",
      "j :  4\n",
      "i+j :  9\n",
      "j :  5\n",
      "i+j :  10\n",
      "i :  5\n",
      "Done Looping..\n"
     ]
    }
   ],
   "source": [
    "for i in [1,2,3,4,5]:\n",
    "    \n",
    "    print(\"i : \", i)\n",
    "    \n",
    "    for j in [1,2,3,4,5]:\n",
    "        \n",
    "        print(\"j : \",j)\n",
    "        print(\"i+j : \",i + j)\n",
    "        \n",
    "    print(\"i : \",i)\n",
    "    \n",
    "print(\"Done Looping..\")"
   ]
  },
  {
   "cell_type": "markdown",
   "metadata": {},
   "source": [
    "## Increase readability"
   ]
  },
  {
   "cell_type": "code",
   "execution_count": 3,
   "metadata": {
    "scrolled": true
   },
   "outputs": [
    {
     "name": "stdout",
     "output_type": "stream",
     "text": [
      "True\n",
      "True\n",
      "5\n"
     ]
    }
   ],
   "source": [
    "#for add computation\n",
    "long_winded_computation = (1 + 2 + 3 + 4 + 5 + 6 + 7 + 8 + 9 + 10 + 11 + 12 + 13 + 14 + 15 + 16 + 17 + 18 + 19 + 20 )\n",
    "same_long_winded_computation = (1 + 2 + 3 + 4 + 5 + 6 + 7 + 8 + 9 + 10 + 11 + 12 +\n",
    "                           13 + 14 + 15 + 16 + 17 + 18 + 19 + 20 )\n",
    "\n",
    "print(long_winded_computation is same_long_winded_computation)\n",
    "\n",
    "#for express of list object\n",
    "list_of_list = [[1,2,3], [4,5,6], [7,8,9]]\n",
    "same_list_of_list = [[1,2,3],\n",
    "                     [4,5,6],\n",
    "                     [7,8,9]]\n",
    "#if use is instead of ==, print false\n",
    "print(list_of_list == same_list_of_list)\n",
    "\n",
    "\n",
    "#Can use backslash\n",
    "two_plus_three = 2 + \\\n",
    "                3\n",
    "\n",
    "print(two_plus_three)"
   ]
  },
  {
   "cell_type": "markdown",
   "metadata": {},
   "source": [
    "# 2.1.4 Module"
   ]
  },
  {
   "cell_type": "code",
   "execution_count": 7,
   "metadata": {},
   "outputs": [
    {
     "name": "stdout",
     "output_type": "stream",
     "text": [
      "re.compile('[0-9]+', re.IGNORECASE)\n"
     ]
    }
   ],
   "source": [
    "import re\n",
    "\n",
    "my_regex = re.compile(\"[0-9]+\", re.I)\n",
    "print(my_regex)"
   ]
  },
  {
   "cell_type": "code",
   "execution_count": 8,
   "metadata": {},
   "outputs": [
    {
     "name": "stdout",
     "output_type": "stream",
     "text": [
      "re.compile('[0-9]+', re.IGNORECASE)\n"
     ]
    }
   ],
   "source": [
    "import re as regex\n",
    "\n",
    "\n",
    "my_regex = regex.compile(\"[0-9]+\", regex.I)\n",
    "print(my_regex)"
   ]
  },
  {
   "cell_type": "code",
   "execution_count": 10,
   "metadata": {},
   "outputs": [
    {
     "name": "stdout",
     "output_type": "stream",
     "text": [
      "defaultdict(<class 'int'>, {})\n",
      "Counter()\n"
     ]
    }
   ],
   "source": [
    "import matplotlib.pyplot as plt\n",
    "from collections import defaultdict, Counter\n",
    "\n",
    "lookup = defaultdict(int)\n",
    "my_counter = Counter()\n",
    "\n",
    "print(lookup)\n",
    "print(my_counter)"
   ]
  },
  {
   "cell_type": "markdown",
   "metadata": {},
   "source": [
    "### Bad Sample of import modules"
   ]
  },
  {
   "cell_type": "code",
   "execution_count": 11,
   "metadata": {},
   "outputs": [
    {
     "name": "stdout",
     "output_type": "stream",
     "text": [
      "10\n",
      "<function match at 0x0000017ABC157F28>\n"
     ]
    }
   ],
   "source": [
    "match = 10\n",
    "print(match)\n",
    "\n",
    "from re import *\n",
    "\n",
    "print(match)"
   ]
  },
  {
   "cell_type": "markdown",
   "metadata": {},
   "source": [
    "# 2.1.5 calculate\n",
    "### Not matched in python 3.6"
   ]
  },
  {
   "cell_type": "code",
   "execution_count": 15,
   "metadata": {},
   "outputs": [
    {
     "name": "stdout",
     "output_type": "stream",
     "text": [
      "python3 :  2.5\n",
      "python2 :  2\n"
     ]
    }
   ],
   "source": [
    "print(\"python3 : \",5/2)\n",
    "print(\"python2 : \",5//2)"
   ]
  },
  {
   "cell_type": "markdown",
   "metadata": {},
   "source": [
    "# 2.1.6 Function"
   ]
  },
  {
   "cell_type": "code",
   "execution_count": 16,
   "metadata": {},
   "outputs": [],
   "source": [
    "def double(x):\n",
    "    \"if use this function input 1 args and return double of args\"\n",
    "    return x *2"
   ]
  },
  {
   "cell_type": "code",
   "execution_count": 19,
   "metadata": {},
   "outputs": [],
   "source": [
    "def apply_to_one(f):\n",
    "    \"return function f, is arg 1\"\n",
    "    return f(1)"
   ]
  },
  {
   "cell_type": "code",
   "execution_count": 26,
   "metadata": {},
   "outputs": [
    {
     "name": "stdout",
     "output_type": "stream",
     "text": [
      "Use function only :  2\n",
      "Normal x : 1 \n",
      "double x : 2\n",
      "lambda x :  5\n"
     ]
    }
   ],
   "source": [
    "my_double = double\n",
    "x = apply_to_one(my_double)\n",
    "print(\"Use function only : \", x)\n",
    "\n",
    "x = 1 \n",
    "print(\"Normal x :\", x, \"\\ndouble x :\", double(x))\n",
    "\n",
    "y = apply_to_one(lambda x:x+4)\n",
    "print(\"lambda x : \", y)"
   ]
  },
  {
   "cell_type": "code",
   "execution_count": 30,
   "metadata": {},
   "outputs": [
    {
     "name": "stdout",
     "output_type": "stream",
     "text": [
      "Use Lambda :  2\n",
      "Use Def :  2\n"
     ]
    }
   ],
   "source": [
    "another_double = lambda x:2*x  #bad examples\n",
    "print(\"Use Lambda : \",another_double(1))\n",
    "def another_double(x) : return 2*x # good examples\n",
    "print(\"Use Def : \",another_double(1))"
   ]
  },
  {
   "cell_type": "code",
   "execution_count": 1,
   "metadata": {},
   "outputs": [
    {
     "name": "stdout",
     "output_type": "stream",
     "text": [
      "hellow\n",
      "my default message\n"
     ]
    }
   ],
   "source": [
    "def my_print(message=\"my default message\"):\n",
    "    print(message)\n",
    "\n",
    "my_print(\"hellow\")\n",
    "my_print()"
   ]
  },
  {
   "cell_type": "code",
   "execution_count": 2,
   "metadata": {},
   "outputs": [
    {
     "name": "stdout",
     "output_type": "stream",
     "text": [
      "5\n",
      "-5\n",
      "-5\n"
     ]
    }
   ],
   "source": [
    "def subtract( a = 0, b = 0 ):\n",
    "    return a-b\n",
    "\n",
    "print(subtract(10,5))\n",
    "print(subtract(0,5))\n",
    "print(subtract(b=5))"
   ]
  },
  {
   "cell_type": "markdown",
   "metadata": {},
   "source": [
    "# 2.1.7 String"
   ]
  },
  {
   "cell_type": "code",
   "execution_count": 4,
   "metadata": {},
   "outputs": [
    {
     "name": "stdout",
     "output_type": "stream",
     "text": [
      "single quoted string :  data science\n",
      "double quoted string :  data science\n",
      "Two stirng compare :  True\n"
     ]
    }
   ],
   "source": [
    "single_quoted_string = 'data science'\n",
    "double_quoted_string = \"data science\"\n",
    "\n",
    "print(\"single quoted string : \",single_quoted_string)\n",
    "print(\"double quoted string : \",double_quoted_string)\n",
    "print(\"Two stirng compare : \",single_quoted_string == double_quoted_string)"
   ]
  },
  {
   "cell_type": "code",
   "execution_count": 8,
   "metadata": {},
   "outputs": [
    {
     "name": "stdout",
     "output_type": "stream",
     "text": [
      "len tab string : 1\n",
      "tab string :  \t\n",
      "len not tab string : 2\n",
      "not tab string : \\t\n"
     ]
    }
   ],
   "source": [
    "tab_string = \"\\t\"\n",
    "print(\"len tab string :\",len(tab_string))\n",
    "print(\"tab string : \",tab_string)\n",
    "\n",
    "not_tab_string = r\"\\t\"\n",
    "print(\"len not tab string :\",len(not_tab_string))\n",
    "print(\"not tab string :\",not_tab_string)"
   ]
  },
  {
   "cell_type": "code",
   "execution_count": 10,
   "metadata": {},
   "outputs": [
    {
     "name": "stdout",
     "output_type": "stream",
     "text": [
      "This is the first line.\n",
      "and this is the second line\n",
      "and this is the third line\n"
     ]
    }
   ],
   "source": [
    "multi_line_string =\"\"\"This is the first line.\n",
    "and this is the second line\n",
    "and this is the third line\"\"\"\n",
    "\n",
    "print(multi_line_string)"
   ]
  },
  {
   "cell_type": "markdown",
   "metadata": {},
   "source": [
    "# 2.1.7 Exception Handling"
   ]
  },
  {
   "cell_type": "code",
   "execution_count": 12,
   "metadata": {},
   "outputs": [
    {
     "name": "stdout",
     "output_type": "stream",
     "text": [
      "cannot divide by zero\n"
     ]
    }
   ],
   "source": [
    "try :\n",
    "    print(0/0)\n",
    "except ZeroDivisionError:\n",
    "    print (\"cannot divide by zero\")"
   ]
  },
  {
   "cell_type": "markdown",
   "metadata": {},
   "source": [
    "# 2.1.8 list"
   ]
  },
  {
   "cell_type": "code",
   "execution_count": null,
   "metadata": {},
   "outputs": [],
   "source": []
  },
  {
   "cell_type": "code",
   "execution_count": null,
   "metadata": {},
   "outputs": [],
   "source": []
  },
  {
   "cell_type": "code",
   "execution_count": null,
   "metadata": {},
   "outputs": [],
   "source": []
  },
  {
   "cell_type": "code",
   "execution_count": null,
   "metadata": {},
   "outputs": [],
   "source": []
  },
  {
   "cell_type": "code",
   "execution_count": null,
   "metadata": {},
   "outputs": [],
   "source": []
  },
  {
   "cell_type": "code",
   "execution_count": null,
   "metadata": {},
   "outputs": [],
   "source": []
  },
  {
   "cell_type": "code",
   "execution_count": 2,
   "metadata": {},
   "outputs": [],
   "source": [
    "a = [x for x in range(0,3)]\n",
    "b = [y for y in range(1,4)]"
   ]
  },
  {
   "cell_type": "code",
   "execution_count": 9,
   "metadata": {},
   "outputs": [],
   "source": [
    "c = [a for a in zip(a,b)]\n",
    "d,e = zip(*c)"
   ]
  },
  {
   "cell_type": "code",
   "execution_count": 10,
   "metadata": {},
   "outputs": [
    {
     "name": "stdout",
     "output_type": "stream",
     "text": [
      "a :  [0, 1, 2] \n",
      "b :  [1, 2, 3] \n",
      "c :  [(0, 1), (1, 2), (2, 3)] \n",
      "d :  (0, 1, 2) \n",
      "e :  (1, 2, 3) \n",
      "\n"
     ]
    }
   ],
   "source": [
    "print(\"a : \", a ,\"\\n\"\n",
    "     \"b : \", b ,\"\\n\"\n",
    "     \"c : \", c ,\"\\n\"\n",
    "     \"d : \", d ,\"\\n\"\n",
    "     \"e : \", e ,\"\\n\")"
   ]
  },
  {
   "cell_type": "code",
   "execution_count": 5,
   "metadata": {},
   "outputs": [
    {
     "ename": "NameError",
     "evalue": "name 'x' is not defined",
     "output_type": "error",
     "traceback": [
      "\u001b[1;31m---------------------------------------------------------------------------\u001b[0m",
      "\u001b[1;31mNameError\u001b[0m                                 Traceback (most recent call last)",
      "\u001b[1;32m<ipython-input-5-dd640cbbdbea>\u001b[0m in \u001b[0;36m<module>\u001b[1;34m\u001b[0m\n\u001b[1;32m----> 1\u001b[1;33m \u001b[0mprint\u001b[0m \u001b[1;33m(\u001b[0m\u001b[0mx\u001b[0m \u001b[1;32mis\u001b[0m \u001b[1;32mNone\u001b[0m\u001b[1;33m)\u001b[0m\u001b[1;33m\u001b[0m\u001b[0m\n\u001b[0m",
      "\u001b[1;31mNameError\u001b[0m: name 'x' is not defined"
     ]
    }
   ],
   "source": [
    "print (x is None)"
   ]
  }
 ],
 "metadata": {
  "kernelspec": {
   "display_name": "Python 3",
   "language": "python",
   "name": "python3"
  },
  "language_info": {
   "codemirror_mode": {
    "name": "ipython",
    "version": 3
   },
   "file_extension": ".py",
   "mimetype": "text/x-python",
   "name": "python",
   "nbconvert_exporter": "python",
   "pygments_lexer": "ipython3",
   "version": "3.6.6"
  }
 },
 "nbformat": 4,
 "nbformat_minor": 2
}
